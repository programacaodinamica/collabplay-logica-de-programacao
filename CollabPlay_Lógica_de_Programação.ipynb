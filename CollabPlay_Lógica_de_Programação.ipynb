{
  "nbformat": 4,
  "nbformat_minor": 0,
  "metadata": {
    "colab": {
      "name": "CollabPlay - Lógica de Programação.ipynb",
      "provenance": [],
      "collapsed_sections": [],
      "authorship_tag": "ABX9TyNds+uot5PfdaqPh7coAXvy",
      "include_colab_link": true
    },
    "kernelspec": {
      "name": "python3",
      "display_name": "Python 3"
    }
  },
  "cells": [
    {
      "cell_type": "markdown",
      "metadata": {
        "id": "view-in-github",
        "colab_type": "text"
      },
      "source": [
        "<a href=\"https://colab.research.google.com/github/programacaodinamica/collabplay-logica-de-programacao/blob/main/CollabPlay_L%C3%B3gica_de_Programa%C3%A7%C3%A3o.ipynb\" target=\"_parent\"><img src=\"https://colab.research.google.com/assets/colab-badge.svg\" alt=\"Open In Colab\"/></a>"
      ]
    },
    {
      "cell_type": "markdown",
      "metadata": {
        "id": "K4dvykVv1yR0"
      },
      "source": [
        "# LÓGICA DE PROGRAMAÇÃO - com Python\n",
        "\n",
        "### CollabPlay Tecnologia \\* Educação \\* Negócios\n",
        "\n",
        "### Instrutores: Hallison e Kizzy (Programação Dinâmica)"
      ]
    },
    {
      "cell_type": "markdown",
      "metadata": {
        "id": "1UxvDyK1KL0W"
      },
      "source": [
        "### 0. Tradição \"Olá Mundo\""
      ]
    },
    {
      "cell_type": "code",
      "metadata": {
        "id": "2T4SuWR0JN60",
        "outputId": "da7e792e-d556-4ddc-887e-b08fc5ddd218",
        "colab": {
          "base_uri": "https://localhost:8080/",
          "height": 34
        }
      },
      "source": [
        "print(\"Olá Mundo\")"
      ],
      "execution_count": null,
      "outputs": [
        {
          "output_type": "stream",
          "text": [
            "Olá Mundo\n"
          ],
          "name": "stdout"
        }
      ]
    },
    {
      "cell_type": "markdown",
      "metadata": {
        "id": "5dpvWExwKbGG"
      },
      "source": [
        ""
      ]
    },
    {
      "cell_type": "markdown",
      "metadata": {
        "id": "p4d8BRSXKRQn"
      },
      "source": [
        "## 1. Variáveis e Tipos de Dados\n"
      ]
    },
    {
      "cell_type": "code",
      "metadata": {
        "id": "ShKC7mIrNYxE"
      },
      "source": [
        "# String (texto)\n",
        "curso = \"Introdução ao Wordpress\"\n",
        "\n",
        "# Inteiro (integer, int)\n",
        "duração = 85\n",
        "\n",
        "# Ponto flutuante (float)\n",
        "preço = 68.99\n",
        "\n",
        "# Booleano (bool)\n",
        "gratuito = False"
      ],
      "execution_count": null,
      "outputs": []
    },
    {
      "cell_type": "code",
      "metadata": {
        "id": "iEzHw_KIOgL_",
        "outputId": "75ef5a19-e67f-4a6e-e8ee-33ed3940440c",
        "colab": {
          "base_uri": "https://localhost:8080/",
          "height": 71
        }
      },
      "source": [
        "print(curso)\n",
        "print(duração)\n",
        "print(preço)"
      ],
      "execution_count": null,
      "outputs": [
        {
          "output_type": "stream",
          "text": [
            "Introdução ao Wordpress\n",
            "85\n",
            "68.99\n"
          ],
          "name": "stdout"
        }
      ]
    },
    {
      "cell_type": "code",
      "metadata": {
        "id": "3zfbAFoxQDC2",
        "outputId": "a073e49f-1367-4c4c-9233-3b80e3ca04f9",
        "colab": {
          "base_uri": "https://localhost:8080/",
          "height": 35
        }
      },
      "source": [
        "type(gratuito)"
      ],
      "execution_count": null,
      "outputs": [
        {
          "output_type": "execute_result",
          "data": {
            "text/plain": [
              "bool"
            ]
          },
          "metadata": {
            "tags": []
          },
          "execution_count": 20
        }
      ]
    },
    {
      "cell_type": "markdown",
      "metadata": {
        "id": "ZY9yChBvRXl5"
      },
      "source": [
        "#### Exercícios"
      ]
    },
    {
      "cell_type": "code",
      "metadata": {
        "id": "pt3GyJq0RcfD"
      },
      "source": [
        "# I) Qual o tipo de dado de:\n",
        "valor = \"97,50\"\n",
        "tempo = 55.0"
      ],
      "execution_count": null,
      "outputs": []
    },
    {
      "cell_type": "code",
      "metadata": {
        "id": "-TCubVS6SIvK"
      },
      "source": [
        "# II) Observe os resultados das operações a seguir. Consegue interpretá-los?\n",
        "print(valor + 20)\n",
        "print(\"R$\" + valor)\n",
        "print(42 + tempo)"
      ],
      "execution_count": null,
      "outputs": []
    },
    {
      "cell_type": "markdown",
      "metadata": {
        "id": "m2Vsgm-CUupX"
      },
      "source": [
        "#### **Materiais complementares:**\n",
        "– Conhecendo os tipos de dados em Python: https://youtu.be/EosATvOIHEs\n",
        "\n",
        "– Operações com números: https://youtu.be/hysCU5CWl80\n",
        "\n",
        "– Comparando números: https://youtu.be/pB0UeU7SIo0"
      ]
    },
    {
      "cell_type": "markdown",
      "metadata": {
        "id": "sqmYUvIqVJAR"
      },
      "source": [
        "## 2. Decisão - **if** e **else**"
      ]
    },
    {
      "cell_type": "code",
      "metadata": {
        "id": "w_VLD6ZBWmnR",
        "outputId": "705e8b89-1eee-45e4-b014-099e5d9cc5a9",
        "colab": {
          "base_uri": "https://localhost:8080/",
          "height": 35
        }
      },
      "source": [
        "gratuito = False\n",
        "preço = 300.00\n",
        "\n",
        "if gratuito:\n",
        "  print(\"Legal, quero aprender agora!\")\n",
        "elif preço <= 100.00:\n",
        "  print(\"Quero comprar!\")\n",
        "elif preço < 250:\n",
        "  print(\"Deixa eu pensar uns 5 minutinhos\")\n",
        "else:\n",
        "  print(\"Quem sabe no futuro, agora não posso!\")"
      ],
      "execution_count": null,
      "outputs": [
        {
          "output_type": "stream",
          "text": [
            "Quem sabe no futuro, agora não posso!\n"
          ],
          "name": "stdout"
        }
      ]
    },
    {
      "cell_type": "markdown",
      "metadata": {
        "id": "ESnoJ_7NcyK4"
      },
      "source": [
        "#### **Exercícios**\n",
        "III. Faça um programa que exiba se um número é par ou ímpar\n",
        "IV. Faça um programa que responde se uma pessoa pode votar, é obrigada a votar, ou não pode votar, apenas baseando-se em sua idade\n",
        "\n",
        "#### **Materiais complementares:**\n",
        "– Analisando Condições em Python https://youtu.be/HquOtDNB608"
      ]
    },
    {
      "cell_type": "markdown",
      "metadata": {
        "id": "yQDpmY4KbFqI"
      },
      "source": [
        "## 3. Entrada e Saída de Dados"
      ]
    },
    {
      "cell_type": "code",
      "metadata": {
        "id": "mW1f0FPmfnWg",
        "outputId": "90baaeee-e395-43d7-e516-90b75ad2f21c",
        "colab": {
          "base_uri": "https://localhost:8080/",
          "height": 53
        }
      },
      "source": [
        "nome = input()\n",
        "print(f\"Olá, {nome}, tudo bem?\")"
      ],
      "execution_count": null,
      "outputs": [
        {
          "output_type": "stream",
          "text": [
            "Kizzy\n",
            "Olá, Kizzy, tudo bem?\n"
          ],
          "name": "stdout"
        }
      ]
    },
    {
      "cell_type": "code",
      "metadata": {
        "id": "ltj8W6PNiihI",
        "outputId": "32315226-f0ae-4049-b117-0020dfad262f",
        "colab": {
          "base_uri": "https://localhost:8080/",
          "height": 71
        }
      },
      "source": [
        "preço_barato = input(\"Qual seria o preço ideal para você?\")\n",
        "print(f\"Tipo antigo: {type(preço_barato)}\")\n",
        "preço_barato = float(preço_barato)\n",
        "print(f\"Tipo novo: {type(preço_barato)}\" )"
      ],
      "execution_count": null,
      "outputs": [
        {
          "output_type": "stream",
          "text": [
            "Qual seria o preço ideal para você?89\n",
            "Tipo antigo: <class 'str'>\n",
            "Tipo novo: <class 'float'>\n"
          ],
          "name": "stdout"
        }
      ]
    },
    {
      "cell_type": "code",
      "metadata": {
        "id": "vU_ZBcycjtLR",
        "outputId": "b97dbe84-e9ec-4248-f76b-c85a825abe83",
        "colab": {
          "base_uri": "https://localhost:8080/",
          "height": 71
        }
      },
      "source": [
        "gratuito = False\n",
        "preço = 150.00\n",
        "\n",
        "preço_barato = input(\"Qual seria o preço ideal para você?\")\n",
        "preço_barato = float(preço_barato)\n",
        "\n",
        "preço_razoavel = float(input(\"E um preço razoável?\"))\n",
        "\n",
        "if gratuito:\n",
        "  print(\"Legal, quero aprender agora!\")\n",
        "elif preço <= preço_barato:\n",
        "  print(\"Quero comprar!\")\n",
        "elif preço < preço_razoavel:\n",
        "  print(\"Deixa eu pensar uns 5 minutinhos\")\n",
        "else:\n",
        "  print(\"Quem sabe no futuro, agora não posso!\")"
      ],
      "execution_count": null,
      "outputs": [
        {
          "output_type": "stream",
          "text": [
            "Qual seria o preço ideal para você?80\n",
            "E um preço razoável?190\n",
            "Deixa eu pensar uns 5 minutinhos\n"
          ],
          "name": "stdout"
        }
      ]
    },
    {
      "cell_type": "markdown",
      "metadata": {
        "id": "_YCCYCzRln9D"
      },
      "source": [
        "#### **Exercícios**\n",
        "V. Faça um programa que simula uma partida de \"Pedra, Papel e Tesoura\". Receba duas entradas - as escolhas de cada jogador - e exiba o resultado da partida como o exemplo:\n",
        "\n",
        "Jogador 1: \"pedra\"\n",
        "Jogador 2: \"tesoura\"\n",
        "\n",
        "\n",
        "\"tesoura vence pedra. Vitória do jogador 2!\""
      ]
    },
    {
      "cell_type": "markdown",
      "metadata": {
        "id": "vBUvYLQGlRDF"
      },
      "source": [
        "## 4. Listas"
      ]
    },
    {
      "cell_type": "code",
      "metadata": {
        "id": "VAI_rbwynouj"
      },
      "source": [
        "cursos = [\"Introdução ao Wordpress\", \n",
        "          \"Criador de Sites\", \n",
        "          \"Afiliado de Sucesso\",\n",
        "          \"Introdução ao Google Ads\",\n",
        "          \"E-commerce e Vendas Online\",\n",
        "          \"Desenvolvimento de Plugins para Wordpress\"]"
      ],
      "execution_count": null,
      "outputs": []
    },
    {
      "cell_type": "code",
      "metadata": {
        "id": "x_oXNDHVzStY",
        "outputId": "f6abea79-6e86-4ac1-eb54-3b5efe73cbe2",
        "colab": {
          "base_uri": "https://localhost:8080/",
          "height": 73
        }
      },
      "source": [
        "print(cursos)\n",
        "print(f\"A lista de cursos tem {len(cursos)} cursos\" )"
      ],
      "execution_count": null,
      "outputs": [
        {
          "output_type": "stream",
          "text": [
            "['Introdução ao Wordpress', 'Criador de Sites', 'Afiliado de Sucesso', 'Introdução ao Google Ads', 'E-commerce e Vendas Online', 'Desenvolvimento de Plugins para Wordpress']\n",
            "A lista de cursos tem 6 cursos\n"
          ],
          "name": "stdout"
        }
      ]
    },
    {
      "cell_type": "code",
      "metadata": {
        "id": "-8EONj8c1CjT",
        "outputId": "9600d5c4-6dd5-4e2d-b136-437661ee389f",
        "colab": {
          "base_uri": "https://localhost:8080/",
          "height": 71
        }
      },
      "source": [
        "indice = int(input('Digite um número:\\n'))\n",
        "if indice < len(cursos):\n",
        "  # estamos seguros\n",
        "  print(f'O curso no índice {indice} é o \"{cursos[indice]}\"')\n",
        "else:\n",
        "  print(f\"O índice {indice} não é válido\")"
      ],
      "execution_count": null,
      "outputs": [
        {
          "output_type": "stream",
          "text": [
            "Digite um número:\n",
            "8\n",
            "O índice 8 não é válido\n"
          ],
          "name": "stdout"
        }
      ]
    },
    {
      "cell_type": "markdown",
      "metadata": {
        "id": "DzeyP8Gr3SdL"
      },
      "source": [
        "#### **Materiais Complementares**\n",
        "– Listas em Python: https://youtu.be/Mjl1O9ANFrI\n",
        "\n",
        "#### **Exercícios**\n",
        "VI) Experimente criar uma lista com elementos de tipos de dados diferentes. Funciona?\n",
        "VII) Experimente usar índices negativos para acessar elementos da lista, por exemplo:\n",
        "  \n",
        "  ```python\n",
        "  cursos[-1] \n",
        "  ```\n",
        "\n",
        "O que aconteceu?\n",
        "\n",
        "VIII) Será que é possível alterar uma lista depois de criada? Experimente o seguinte: \n",
        "\n",
        "  ```python\n",
        "  cursos.append(\"Lógica de Programação\")\n",
        "  ```\n",
        "\n",
        "Depois disso, exiba o tamanho da lista. O que aconteceu?"
      ]
    },
    {
      "cell_type": "markdown",
      "metadata": {
        "id": "n-Vdz9y44xOL"
      },
      "source": [
        "## 5 Repetições - for"
      ]
    },
    {
      "cell_type": "code",
      "metadata": {
        "id": "MV2PRdDq41XJ",
        "outputId": "4907efd6-9582-401f-b03a-b0a3518d1645",
        "colab": {
          "base_uri": "https://localhost:8080/",
          "height": 125
        }
      },
      "source": [
        "cursos = [\"Introdução ao Wordpress\", \n",
        "          \"Criador de Sites\", \n",
        "          \"Afiliado de Sucesso\",\n",
        "          \"Introdução ao Google Ads\",\n",
        "          \"E-commerce e Vendas Online\",\n",
        "          \"Desenvolvimento de Plugins para Wordpress\"]\n",
        "\n",
        "for curso in cursos:\n",
        "  print(curso)"
      ],
      "execution_count": null,
      "outputs": [
        {
          "output_type": "stream",
          "text": [
            "Introdução ao Wordpress\n",
            "Criador de Sites\n",
            "Afiliado de Sucesso\n",
            "Introdução ao Google Ads\n",
            "E-commerce e Vendas Online\n",
            "Desenvolvimento de Plugins para Wordpress\n"
          ],
          "name": "stdout"
        }
      ]
    },
    {
      "cell_type": "code",
      "metadata": {
        "id": "jjqnm9Dg8WW-",
        "outputId": "78e3a3ff-730c-4ea1-8468-9dd325fb3e86",
        "colab": {
          "base_uri": "https://localhost:8080/",
          "height": 125
        }
      },
      "source": [
        "for i in range(len(cursos)):\n",
        "  print(cursos[i])"
      ],
      "execution_count": null,
      "outputs": [
        {
          "output_type": "stream",
          "text": [
            "Introdução ao Wordpress\n",
            "Criador de Sites\n",
            "Afiliado de Sucesso\n",
            "Introdução ao Google Ads\n",
            "E-commerce e Vendas Online\n",
            "Desenvolvimento de Plugins para Wordpress\n"
          ],
          "name": "stdout"
        }
      ]
    },
    {
      "cell_type": "code",
      "metadata": {
        "id": "tF4oqLxF9Pk7",
        "outputId": "cb32cbd5-6145-4eb2-b893-b37224660d40",
        "colab": {
          "base_uri": "https://localhost:8080/",
          "height": 125
        }
      },
      "source": [
        "i = 0\n",
        "while i < len(cursos):\n",
        "  print(cursos[i])\n",
        "  i = i + 1"
      ],
      "execution_count": null,
      "outputs": [
        {
          "output_type": "stream",
          "text": [
            "Introdução ao Wordpress\n",
            "Criador de Sites\n",
            "Afiliado de Sucesso\n",
            "Introdução ao Google Ads\n",
            "E-commerce e Vendas Online\n",
            "Desenvolvimento de Plugins para Wordpress\n"
          ],
          "name": "stdout"
        }
      ]
    },
    {
      "cell_type": "markdown",
      "metadata": {
        "id": "mrKudvkwCMl7"
      },
      "source": [
        "#### **Materiais Complementares**\n",
        "– Repetições em Python I - Iterações definidas: https://youtu.be/H3uppJ2XU9Y\n",
        "\n",
        "– Repetições em Python I - Iterações condicionais: https://youtu.be/3nkdjBE3Xlo\n",
        "\n",
        "– Strings e Criptografia: https://youtu.be/COtUf6E5U3M"
      ]
    },
    {
      "cell_type": "markdown",
      "metadata": {
        "id": "pb0U_OJRycwS"
      },
      "source": [
        "# Projeto Final: \n",
        "# Sistema de Recomendação de Cursos CollabPlay\n",
        "\n",
        "Saiba mais: https://collabplay.online/br/"
      ]
    },
    {
      "cell_type": "markdown",
      "metadata": {
        "id": "XcAI2wXlyrUV"
      },
      "source": [
        "### Objetivo:\n",
        "Projetar e implementar uma interface que receba informações sobre os interesses de um estudante e recomende-lhe os cursos do CollabPlay que sejam mais adequados ao seu perfil."
      ]
    },
    {
      "cell_type": "markdown",
      "metadata": {
        "id": "trRu5012M4-q"
      },
      "source": [
        "#### Implementando a interface dos pedidos"
      ]
    },
    {
      "cell_type": "code",
      "metadata": {
        "id": "RmJwWGlFzUqm",
        "outputId": "c0012fc0-4a55-4ca9-bd71-767715b412a4",
        "colab": {
          "base_uri": "https://localhost:8080/",
          "height": 323
        }
      },
      "source": [
        "# Código aqui\n",
        "nome = input(\"Como gostaria de ser chamado(a)\")\n",
        "categorias = [\"Wordpress\",\n",
        "              \"Criação de Site\",\n",
        "              \"E-commerce\",\n",
        "              \"Marketing Digital\",\n",
        "              \"Vendas\",\n",
        "              \"Google Ads\",\n",
        "              \"Design\",\n",
        "              \"Negócios\",\n",
        "              \"Youtube\",\n",
        "              \"Criação de Conteúdo\",\n",
        "              \"Programação\"]\n",
        "\n",
        "for i in range(len(categorias)):\n",
        "  # equivalente a usar enumerate\n",
        "  print(f\"{i}. {categorias[i]}\")\n",
        "\n",
        "num_das_categorias = input(\n",
        "    \"Digite o número dos assuntos de seu interesse (use vírgulas):\\n\"\n",
        "    )\n",
        "\n",
        "# TODO: resolver problema num_das_categorias = \"10, 8\"\n",
        "\n",
        "tempo = float(input(\"Quanto tempo gostaria de estudar? (min)\\n\"))\n",
        "\n",
        "mostrar_premium = input(\"Mostrar cursos Premium (S/N)?\")\n"
      ],
      "execution_count": null,
      "outputs": [
        {
          "output_type": "stream",
          "text": [
            "Como gostaria de ser chamado(a)Kizzy\n",
            "0. Wordpress\n",
            "1. Criação de Site\n",
            "2. E-commerce\n",
            "3. Marketing Digital\n",
            "4. Vendas\n",
            "5. Google Ads\n",
            "6. Design\n",
            "7. Negócios\n",
            "8. Youtube\n",
            "9. Criação de Conteúdo\n",
            "10. Programação\n",
            "Digite o número dos assuntos de seu interesse (use vírgulas):\n",
            "2, 10, 8\n",
            "Quanto tempo gostaria de estudar? (min)\n",
            "400\n",
            "Mostrar cursos Premium (S/N)?S\n"
          ],
          "name": "stdout"
        }
      ]
    },
    {
      "cell_type": "markdown",
      "metadata": {
        "id": "iF8aGDX9MwuC"
      },
      "source": [
        "#### Resolvendo problemas com tipos de dados"
      ]
    },
    {
      "cell_type": "code",
      "metadata": {
        "id": "73tnss8UI84F",
        "outputId": "bcc683d7-e9c7-4c79-f932-0b37a5b87a63",
        "colab": {
          "base_uri": "https://localhost:8080/",
          "height": 107
        }
      },
      "source": [
        "print(type(nome))\n",
        "print(type(num_das_categorias))\n",
        "print(type(tempo))\n",
        "print(type(mostrar_premium))\n",
        "\n",
        "if mostrar_premium == \"N\" or gratuidade == \"n\":\n",
        "  mostrar_premium = False\n",
        "else:\n",
        "  mostrar_premium = True\n",
        "\n",
        "num_das_categorias = num_das_categorias.split(\",\")\n",
        "ncategorias = []\n",
        "for elemento in num_das_categorias:\n",
        "  numero = int(elemento.strip())\n",
        "  ncategorias.append(numero)\n",
        "\n",
        "print(ncategorias)"
      ],
      "execution_count": null,
      "outputs": [
        {
          "output_type": "stream",
          "text": [
            "<class 'str'>\n",
            "<class 'str'>\n",
            "<class 'float'>\n",
            "<class 'str'>\n",
            "[2, 10, 8]\n"
          ],
          "name": "stdout"
        }
      ]
    },
    {
      "cell_type": "code",
      "metadata": {
        "id": "I6qegfucKj5W",
        "outputId": "3c2b0aff-6dd3-48a9-d549-cbc937fea037",
        "colab": {
          "base_uri": "https://localhost:8080/",
          "height": 89
        }
      },
      "source": [
        "print(f\"Nome: {nome}\")\n",
        "print(f\"ID das Categorias: {ncategorias}\")\n",
        "print(f\"Tempo: {tempo}\")\n",
        "print(f\"Mostrar Premium?: {mostrar_premium}\")"
      ],
      "execution_count": null,
      "outputs": [
        {
          "output_type": "stream",
          "text": [
            "Nome: Kizzy\n",
            "ID das Categorias: [2, 10, 8]\n",
            "Tempo: 400.0\n",
            "Mostrar Premium?: True\n"
          ],
          "name": "stdout"
        }
      ]
    },
    {
      "cell_type": "markdown",
      "metadata": {
        "id": "qGKc7Y_lM_d0"
      },
      "source": [
        "#### Analisando o perfil de interesses"
      ]
    },
    {
      "cell_type": "code",
      "metadata": {
        "id": "JuOltPtmN9Yh"
      },
      "source": [
        "# Colunas da tabela na forma de listas\n",
        "cursos = [\"Introdução ao Wordpress\",\n",
        "          \"Criador de Sites\",\n",
        "          \"Introdução ao WooCommerce\",\n",
        "          \"Afiliado de Sucesso\",\n",
        "          \"Venda mais com WhatsApp Business e Google Meu Negócio\",\n",
        "          \"Introdução ao Google Ads\",\n",
        "          \"E-commerce e Vendas Online\",\n",
        "          \"Canva: Design Fácil para Empreendedores\",\n",
        "          \"Youtube para Iniciantes: como criar e crescer o seu canal\",\n",
        "          \"Rede de Display e Youtube\",\n",
        "          \"Desenvolvimento de Plugins para WordPress\"\n",
        "          ]\n",
        "\n",
        "tempos = [95,\n",
        "          25,\n",
        "          35,\n",
        "          85,\n",
        "          75,\n",
        "          150,\n",
        "          140,\n",
        "          120,\n",
        "          85,\n",
        "          335,\n",
        "          160]\n",
        "\n",
        "categorias_do_curso = [\n",
        "  ['wordpress', 'criação de sites'],\n",
        "  ['criação de sites'],\n",
        "  ['e-commerce', 'criação de sites', 'wordpress'],\n",
        "  ['marketing digital', 'vendas'],\n",
        "  ['marketing digital', 'vendas', 'google ads', 'negócios'],\n",
        "  ['marketing digital', 'google ads'],\n",
        "  ['e-commerce', 'vendas', 'negócios'],\n",
        "  ['design', 'negócios'],\n",
        "  ['youtube', 'criação de conteúdo'],\n",
        "  ['marketing digital', 'google ads', 'youtube'],\n",
        "  ['programação', 'wordpress']\n",
        "]\n",
        "\n",
        "gratuidade = [True,\n",
        "              True,\n",
        "              True,\n",
        "              True,\n",
        "              True,\n",
        "              True,\n",
        "              True,\n",
        "              True,\n",
        "              True,\n",
        "              False,\n",
        "              True,]"
      ],
      "execution_count": null,
      "outputs": []
    },
    {
      "cell_type": "code",
      "metadata": {
        "id": "6ZpnQRPCTZfh",
        "outputId": "b11be229-459e-4b34-ec4a-6b30719c2287",
        "colab": {
          "base_uri": "https://localhost:8080/",
          "height": 35
        }
      },
      "source": [
        "# categorias selecionadas\n",
        "categorias_selecionadas = []\n",
        "for n in ncategorias:\n",
        "  categorias_selecionadas.append(categorias[n].upper())\n",
        "\n",
        "print(categorias_selecionadas)"
      ],
      "execution_count": null,
      "outputs": [
        {
          "output_type": "stream",
          "text": [
            "['E-COMMERCE', 'PROGRAMAÇÃO', 'YOUTUBE']\n"
          ],
          "name": "stdout"
        }
      ]
    },
    {
      "cell_type": "code",
      "metadata": {
        "id": "NGF2xuxTaX02",
        "outputId": "3593beef-d8b6-4160-ebbf-e1400c5ac4fd",
        "colab": {
          "base_uri": "https://localhost:8080/",
          "height": 179
        }
      },
      "source": [
        "print(f\"Olá, {nome}, com base no seu perfil, achamos que você iria gostar dos seguintes cursos:\")\n",
        "for cat in categorias_selecionadas:\n",
        "  print(f\"{cat}:\")\n",
        "  for linha in range(len(cursos)):\n",
        "    if gratuidade[linha] or mostrar_premium:\n",
        "      if (cat.lower() in categorias_do_curso[linha]\n",
        "          and tempos[linha] <= tempo):\n",
        "        print(f\"– {cursos[linha]} ({tempos[linha]} min)\")"
      ],
      "execution_count": null,
      "outputs": [
        {
          "output_type": "stream",
          "text": [
            "Olá, Kizzy, com base no seu perfil, achamos que você iria gostar dos seguintes cursos:\n",
            "E-COMMERCE:\n",
            "– Introdução ao WooCommerce (35 min)\n",
            "– E-commerce e Vendas Online (140 min)\n",
            "PROGRAMAÇÃO:\n",
            "– Desenvolvimento de Plugins para WordPress (160 min)\n",
            "YOUTUBE:\n",
            "– Youtube para Iniciantes: como criar e crescer o seu canal (85 min)\n",
            "– Rede de Display e Youtube (335 min)\n"
          ],
          "name": "stdout"
        }
      ]
    },
    {
      "cell_type": "markdown",
      "metadata": {
        "id": "XqinUZIdzXLI"
      },
      "source": [
        "Exemplo de saída:\n",
        "\n",
        "Olá, **Hallison**, com base no seu perfil, achamos que você iria gostar dos seguintes cursos:\n",
        "\n",
        "PROGRAMAÇÃO:\n",
        "\n",
        "– Desenvolvimento de Plugins para WordPress (160 min)\n",
        "\n",
        "YOUTUBE:\n",
        "\n",
        "– Youtube para Iniciantes: como criar e crescer o seu canal (85 min)\n",
        "\n",
        "– Rede de Display e Youtube (335 min)\n",
        "\n"
      ]
    },
    {
      "cell_type": "markdown",
      "metadata": {
        "id": "TRRpbqav4n8C"
      },
      "source": [
        "### Cursos no ColabPlay até o momento\n",
        "\n",
        "| Nome do curso                                             | Duração (min) | Categorias                                      | Gratuito |\n",
        "|-----------------------------------------------------------|-----------------|-------------------------------------------------|----------|\n",
        "| Introdução ao Wordpress                                   | 95              | wordpress, criação de sites                     | Sim      |\n",
        "| Criador de Sites                                          | 25              | criação de sites                                | Sim      |\n",
        "| Introdução ao WooCommerce                                 | 35              | e-commerce, criação de sites, wordpress         | Sim      |\n",
        "| Afiliado de Sucesso                                       | 85              | marketing digital, vendas                       | Sim      |\n",
        "| Venda mais com WhatsApp Business e Google Meu Negócio     | 75              | marketing digital, vendas, google ads, negócios | Sim      |\n",
        "| Introdução ao Google Ads                                  | 150             | marketing digital, google ads                   | Sim      |\n",
        "| E-commerce e Vendas Online                                | 140             | e-commerce, vendas, negócios                    | Sim      |\n",
        "| Canva: Design Fácil para Empreendedores                   | 120             | design, negócios                                | Sim      |\n",
        "| Youtube para Iniciantes: como criar e crescer o seu canal | 85              | youtube, criação de conteúdo                    | Sim      |\n",
        "| Rede de Display e Youtube                                 | 335             | marketing digital, google ads, youtube          | Não      |\n",
        "| Desenvolvimento de Plugins para WordPress                 | 160             | programação, wordpress                          | Sim      |"
      ]
    },
    {
      "cell_type": "code",
      "metadata": {
        "id": "wKp7Ma8y3cHp"
      },
      "source": [
        ""
      ],
      "execution_count": null,
      "outputs": []
    }
  ]
}